{
 "cells": [
  {
   "cell_type": "code",
   "execution_count": 21,
   "metadata": {},
   "outputs": [],
   "source": [
    "import tensorflow.keras as keras\n",
    "import os\n",
    "import numpy as np\n",
    "import matplotlib.pyplot as plt\n",
    "import tensorflow as tf\n",
    "from PIL import Image\n",
    "import sys\n",
    "import glob\n",
    "from tqdm.notebook import tqdm"
   ]
  },
  {
   "cell_type": "code",
   "execution_count": null,
   "metadata": {},
   "outputs": [
    {
     "name": "stdout",
     "output_type": "stream",
     "text": [
      "WARNING:tensorflow:No training configuration found in save file: the model was *not* compiled. Compile it manually.\n",
      "WARNING:tensorflow:No training configuration found in save file: the model was *not* compiled. Compile it manually.\n"
     ]
    }
   ],
   "source": [
    "paths_format = \"../face-utility/frames/*.jpg\"\n",
    "paths = sorted(glob.glob(paths_format))\n",
    "\n",
    "size = 128\n",
    "\n",
    "nb = \"1\"\n",
    "path_E = \"saved-models/E_training3_\" + nb +\".h5\"\n",
    "path_G = \"saved-models/G_training3_\" + nb +\".h5\"\n",
    "path_D = \"saved-models/D_training3_\" + nb +\".h5\"\n",
    "\n",
    "E = keras.models.load_model(path_E)\n",
    "G = keras.models.load_model(path_G)\n",
    "D = keras.models.load_model(path_D)"
   ]
  },
  {
   "cell_type": "code",
   "execution_count": null,
   "metadata": {},
   "outputs": [],
   "source": [
    "def encode(images) :\n",
    "    res = []\n",
    "    for im in tqdm(images) :\n",
    "        im = np.expand_dims(im, 0)\n",
    "        res.append(E(im)[0][0])\n",
    "    return res\n",
    "    \n",
    "def decode(represetations) :\n",
    "    res = []\n",
    "    for r in tqdm(represetations) :\n",
    "        im = G(np.expand_dims(r, 0))\n",
    "        res.append(im[0])\n",
    "    return res"
   ]
  },
  {
   "cell_type": "code",
   "execution_count": null,
   "metadata": {},
   "outputs": [],
   "source": [
    "def read_images(paths) :\n",
    "    res = []\n",
    "    for p in paths :\n",
    "        im = Image.open(p)\n",
    "        im = im.resize((size,size))\n",
    "        im = np.array(im) / 256\n",
    "        im = im.astype(np.float32)\n",
    "        res.append(im)\n",
    "    return res"
   ]
  },
  {
   "cell_type": "code",
   "execution_count": null,
   "metadata": {},
   "outputs": [],
   "source": [
    "encoded = encode(read_images(paths))"
   ]
  },
  {
   "cell_type": "code",
   "execution_count": null,
   "metadata": {},
   "outputs": [],
   "source": [
    "decoded = decode(encoded)"
   ]
  },
  {
   "cell_type": "code",
   "execution_count": null,
   "metadata": {},
   "outputs": [],
   "source": [
    "from matplotlib import animation, rc\n",
    "from IPython.display import HTML\n",
    "\n",
    "ims = []\n",
    "fig = plt.figure()\n",
    "for im in decoded :\n",
    "    ims.append([plt.imshow(im, animated=True)])\n",
    "ani1 = animation.ArtistAnimation(fig, ims, interval=20, blit=True,\n",
    "                                repeat_delay=1000)\n",
    "HTML(ani1.to_html5_video())"
   ]
  },
  {
   "cell_type": "code",
   "execution_count": null,
   "metadata": {},
   "outputs": [],
   "source": []
  }
 ],
 "metadata": {
  "kernelspec": {
   "display_name": "Python 3",
   "language": "python",
   "name": "python3"
  },
  "language_info": {
   "codemirror_mode": {
    "name": "ipython",
    "version": 3
   },
   "file_extension": ".py",
   "mimetype": "text/x-python",
   "name": "python",
   "nbconvert_exporter": "python",
   "pygments_lexer": "ipython3",
   "version": "3.6.9"
  }
 },
 "nbformat": 4,
 "nbformat_minor": 2
}
